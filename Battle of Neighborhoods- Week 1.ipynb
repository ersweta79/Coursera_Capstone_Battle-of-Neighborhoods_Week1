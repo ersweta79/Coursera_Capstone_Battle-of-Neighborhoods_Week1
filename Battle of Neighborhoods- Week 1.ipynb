{
    "cells": [
        {
            "cell_type": "markdown",
            "metadata": {
                "collapsed": true
            },
            "source": "### BATTLE OF NEIGHBORHOODS- WEEK1"
        },
        {
            "cell_type": "markdown",
            "metadata": {},
            "source": "### Introduction and Business Problem"
        },
        {
            "cell_type": "markdown",
            "metadata": {},
            "source": "## Problem Background:"
        },
        {
            "cell_type": "markdown",
            "metadata": {},
            "source": "### New York City (NYC), often called The City or simply New York (NY), is the most populous city in the United States. With an estimated 2018 population of 8,398,748 distributed over about 302.6 square miles (784 km2), New York is also the most densely populated major city in the United States.Located at the southern tip of the U.S. state of New York, the city is the center of the New York metropolitan area, the largest metropolitan area in the world by urban landmass.With almost 20 million people in its metropolitan statistical area and approximately 23 million in its combined statistical area, it is one of the world's most populous megacities. New York City has been described as the cultural, financial, and media capital of the world, significantly influencing commerce, entertainment, research, technology, education, politics, tourism, art, fashion, and sports.\n\n### Tourist from all over the world visit this city and would be interested in staying in hotels near the restaurants which provide the their own country cuisine."
        },
        {
            "cell_type": "markdown",
            "metadata": {},
            "source": "### Problem Description:"
        },
        {
            "cell_type": "markdown",
            "metadata": {},
            "source": "### One of my friend is visiting New York and want to stay in a hotel vicinity to Indian restaurants. This assignment would help tourist to find the hotels closer to restaurant they are interested in."
        },
        {
            "cell_type": "markdown",
            "metadata": {},
            "source": "### DATA  USED IN BATTLE OF NEIGHBORHOODS:"
        },
        {
            "cell_type": "markdown",
            "metadata": {},
            "source": "### We are going to analyze NewYork City data\n\n### 1.Download and Explore Dataset of New York City: Link to the Dataset: https://geo.nyu.edu/catalog/nyu_2451_34572\n     \n### 2.Explore Neighborhoods in New York City.\n\n### 3.we are going to start utilizing the Foursquare API to explore the neighborhoods and segment them.\n\n### 4. Using Foursquare to find the Indian restaurant under 10 mile radius of hotel"
        },
        {
            "cell_type": "code",
            "execution_count": null,
            "metadata": {},
            "outputs": [],
            "source": ""
        }
    ],
    "metadata": {
        "kernelspec": {
            "display_name": "Python 3.6",
            "language": "python",
            "name": "python3"
        },
        "language_info": {
            "codemirror_mode": {
                "name": "ipython",
                "version": 3
            },
            "file_extension": ".py",
            "mimetype": "text/x-python",
            "name": "python",
            "nbconvert_exporter": "python",
            "pygments_lexer": "ipython3",
            "version": "3.6.9"
        }
    },
    "nbformat": 4,
    "nbformat_minor": 1
}